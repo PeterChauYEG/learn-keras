{
 "cells": [
  {
   "cell_type": "markdown",
   "metadata": {},
   "source": [
    "# Getting Started\n",
    "Create a Sequential model. This is a linear stack of layers.\n",
    "\n",
    "Create it by passing a list of layer instances to the constructor"
   ]
  },
  {
   "cell_type": "code",
   "execution_count": 9,
   "metadata": {},
   "outputs": [],
   "source": [
    "from keras.models import Sequential\n",
    "from keras.layers import Dense\n",
    "import keras"
   ]
  },
  {
   "cell_type": "code",
   "execution_count": 10,
   "metadata": {},
   "outputs": [],
   "source": [
    "# Defined the model\n",
    "model = Sequential()\n",
    "model.add(Dense(units=64, activation='relu', input_dim=100))\n",
    "model.add(Dense(units=10, activation='softmax'))"
   ]
  },
  {
   "cell_type": "code",
   "execution_count": 11,
   "metadata": {},
   "outputs": [],
   "source": [
    "# configure for learning \n",
    "model.compile(loss=keras.losses.categorical_crossentropy,\n",
    "              optimizer=keras.optimizers.SGD(lr=0.01, momentum=0.9, nesterov=True))"
   ]
  },
  {
   "cell_type": "code",
   "execution_count": 18,
   "metadata": {},
   "outputs": [],
   "source": [
    "import numpy as np\n",
    "\n",
    "x_train = np.random.rand(32*5, 100)\n",
    "y_train = np.random.rand(32*5, 10)"
   ]
  },
  {
   "cell_type": "code",
   "execution_count": 19,
   "metadata": {},
   "outputs": [
    {
     "name": "stdout",
     "output_type": "stream",
     "text": [
      "Epoch 1/5\n",
      "160/160 [==============================] - 0s 1ms/step - loss: 11.6843\n",
      "Epoch 2/5\n",
      "160/160 [==============================] - 0s 44us/step - loss: 11.5634\n",
      "Epoch 3/5\n",
      "160/160 [==============================] - 0s 75us/step - loss: 11.5086\n",
      "Epoch 4/5\n",
      "160/160 [==============================] - 0s 50us/step - loss: 11.4613\n",
      "Epoch 5/5\n",
      "160/160 [==============================] - 0s 81us/step - loss: 11.4360\n"
     ]
    },
    {
     "data": {
      "text/plain": [
       "<keras.callbacks.History at 0x18419527f60>"
      ]
     },
     "execution_count": 19,
     "metadata": {},
     "output_type": "execute_result"
    }
   ],
   "source": [
    "# iterate training data in batches\n",
    "# x_train and y_train are NUmpy arrays\n",
    "model.fit(x_train, y_train, epochs=5, batch_size=32)"
   ]
  },
  {
   "cell_type": "code",
   "execution_count": 21,
   "metadata": {},
   "outputs": [
    {
     "data": {
      "text/plain": [
       "11.790047"
      ]
     },
     "execution_count": 21,
     "metadata": {},
     "output_type": "execute_result"
    }
   ],
   "source": [
    "# or feed batches to the model manually\n",
    "model.train_on_batch(x_train[:32], y_train[:32])"
   ]
  },
  {
   "cell_type": "code",
   "execution_count": 22,
   "metadata": {},
   "outputs": [
    {
     "name": "stdout",
     "output_type": "stream",
     "text": [
      "128/128 [==============================] - 0s 320us/step\n"
     ]
    }
   ],
   "source": [
    "# evaluate performance\n",
    "loss_and_metrics = model.evaluate(x_train[:128], y_train[:128], batch_size=128)"
   ]
  },
  {
   "cell_type": "code",
   "execution_count": 23,
   "metadata": {},
   "outputs": [],
   "source": [
    "# generate predictions\n",
    "classes = model.predict(x_train[:128], batch_size=128)"
   ]
  },
  {
   "cell_type": "code",
   "execution_count": 24,
   "metadata": {},
   "outputs": [
    {
     "name": "stdout",
     "output_type": "stream",
     "text": [
      "[[0.07592542 0.12271842 0.08333969 ... 0.09225672 0.10060837 0.0996035 ]\n",
      " [0.11352577 0.09987185 0.07418596 ... 0.09806044 0.09732182 0.11722204]\n",
      " [0.0974049  0.09459309 0.07122353 ... 0.07757884 0.09814359 0.09750657]\n",
      " ...\n",
      " [0.09165979 0.09654989 0.08717088 ... 0.06783654 0.10402808 0.11609083]\n",
      " [0.07204993 0.08389675 0.07454612 ... 0.10977181 0.11391913 0.10750245]\n",
      " [0.09939632 0.10067715 0.08424028 ... 0.09788001 0.07534508 0.1153652 ]]\n"
     ]
    }
   ],
   "source": [
    "print(classes)"
   ]
  }
 ],
 "metadata": {
  "kernelspec": {
   "display_name": "Python 3",
   "language": "python",
   "name": "python3"
  },
  "language_info": {
   "codemirror_mode": {
    "name": "ipython",
    "version": 3
   },
   "file_extension": ".py",
   "mimetype": "text/x-python",
   "name": "python",
   "nbconvert_exporter": "python",
   "pygments_lexer": "ipython3",
   "version": "3.6.5"
  }
 },
 "nbformat": 4,
 "nbformat_minor": 2
}
