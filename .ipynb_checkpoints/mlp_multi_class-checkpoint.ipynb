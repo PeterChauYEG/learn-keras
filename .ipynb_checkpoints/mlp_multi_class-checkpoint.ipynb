{
 "cells": [
  {
   "cell_type": "markdown",
   "metadata": {},
   "source": [
    "# Multilayer Perceptron for mutli-class softmax classification"
   ]
  },
  {
   "cell_type": "code",
   "execution_count": 2,
   "metadata": {},
   "outputs": [],
   "source": [
    "import keras\n",
    "from keras.models import Sequential\n",
    "from keras.layers import Dense, Dropout, Activation\n",
    "from keras.optimizers import SGD\n",
    "import numpy as np"
   ]
  },
  {
   "cell_type": "code",
   "execution_count": 4,
   "metadata": {},
   "outputs": [],
   "source": [
    "# generate dummy data\n",
    "x_train = np.random.random((1000, 20))\n",
    "y_train = keras.utils.to_categorical(np.random.randint(10, size=(1000, 1)), num_classes=10)\n",
    "x_test = np.random.random((100, 20))\n",
    "y_test = keras.utils.to_categorical(np.random.randint(10, size=(100, 1)), num_classes=10)"
   ]
  },
  {
   "cell_type": "code",
   "execution_count": 5,
   "metadata": {},
   "outputs": [],
   "source": [
    "# define the model\n",
    "# first use a fully-connected layer with 64 hidden units\n",
    "# the input shape is the same number of dimensions as the x input\n",
    "model = Sequential()\n",
    "model.add(Dense(64, activation='relu', input_dim=20))\n",
    "# don't use half of the hidden units of the previous in a random way\n",
    "model.add(Dropout(0.5))\n",
    "model.add(Dense(64, activation='relu'))\n",
    "model.add(Dropout(0.5))\n",
    "# 10 output neurons matching the number of categories\n",
    "model.add(Dense(10, activation='softmax')) "
   ]
  },
  {
   "cell_type": "code",
   "execution_count": 6,
   "metadata": {},
   "outputs": [],
   "source": [
    "# compile the model\n",
    "# use a custom optimizer\n",
    "sgd = SGD(lr=0.01, decay=1e-6, momentum=0.9, nesterov=True)\n",
    "model.compile(loss='categorical_crossentropy',\n",
    "              optimizer=sgd,\n",
    "              metrics=['accuracy'])"
   ]
  },
  {
   "cell_type": "code",
   "execution_count": 9,
   "metadata": {},
   "outputs": [
    {
     "name": "stdout",
     "output_type": "stream",
     "text": [
      "Epoch 1/20\n",
      "1000/1000 [==============================] - 0s 322us/step - loss: 2.4297 - acc: 0.0970\n",
      "Epoch 2/20\n",
      "1000/1000 [==============================] - 0s 23us/step - loss: 2.3626 - acc: 0.0930\n",
      "Epoch 3/20\n",
      "1000/1000 [==============================] - 0s 27us/step - loss: 2.3244 - acc: 0.0990\n",
      "Epoch 4/20\n",
      "1000/1000 [==============================] - 0s 30us/step - loss: 2.3222 - acc: 0.1060\n",
      "Epoch 5/20\n",
      "1000/1000 [==============================] - 0s 24us/step - loss: 2.3110 - acc: 0.1100\n",
      "Epoch 6/20\n",
      "1000/1000 [==============================] - 0s 27us/step - loss: 2.3145 - acc: 0.0960\n",
      "Epoch 7/20\n",
      "1000/1000 [==============================] - 0s 28us/step - loss: 2.3076 - acc: 0.1190\n",
      "Epoch 8/20\n",
      "1000/1000 [==============================] - 0s 27us/step - loss: 2.3106 - acc: 0.1050\n",
      "Epoch 9/20\n",
      "1000/1000 [==============================] - 0s 27us/step - loss: 2.3072 - acc: 0.1080\n",
      "Epoch 10/20\n",
      "1000/1000 [==============================] - 0s 25us/step - loss: 2.3078 - acc: 0.0990\n",
      "Epoch 11/20\n",
      "1000/1000 [==============================] - 0s 27us/step - loss: 2.2989 - acc: 0.1100\n",
      "Epoch 12/20\n",
      "1000/1000 [==============================] - 0s 24us/step - loss: 2.3032 - acc: 0.1080\n",
      "Epoch 13/20\n",
      "1000/1000 [==============================] - 0s 27us/step - loss: 2.3008 - acc: 0.1070\n",
      "Epoch 14/20\n",
      "1000/1000 [==============================] - 0s 26us/step - loss: 2.2974 - acc: 0.1100\n",
      "Epoch 15/20\n",
      "1000/1000 [==============================] - 0s 29us/step - loss: 2.3018 - acc: 0.1110\n",
      "Epoch 16/20\n",
      "1000/1000 [==============================] - 0s 32us/step - loss: 2.2980 - acc: 0.1090\n",
      "Epoch 17/20\n",
      "1000/1000 [==============================] - 0s 34us/step - loss: 2.2968 - acc: 0.1090\n",
      "Epoch 18/20\n",
      "1000/1000 [==============================] - 0s 26us/step - loss: 2.3013 - acc: 0.1200\n",
      "Epoch 19/20\n",
      "1000/1000 [==============================] - 0s 28us/step - loss: 2.3046 - acc: 0.1150\n",
      "Epoch 20/20\n",
      "1000/1000 [==============================] - 0s 28us/step - loss: 2.3013 - acc: 0.1150\n"
     ]
    },
    {
     "data": {
      "text/plain": [
       "<keras.callbacks.History at 0x27563f90710>"
      ]
     },
     "execution_count": 9,
     "metadata": {},
     "output_type": "execute_result"
    }
   ],
   "source": [
    "# train the model\n",
    "model.fit(x_train,\n",
    "          y_train,\n",
    "          epochs=20,\n",
    "          batch_size=128)"
   ]
  },
  {
   "cell_type": "code",
   "execution_count": 12,
   "metadata": {},
   "outputs": [
    {
     "name": "stdout",
     "output_type": "stream",
     "text": [
      "100/100 [==============================] - 0s 65us/step\n",
      "[2.2878856658935547, 0.10999999940395355]\n"
     ]
    }
   ],
   "source": [
    "# evaluate the model\n",
    "score = model.evaluate(x_test, y_test, batch_size=128)\n",
    "print(score)"
   ]
  }
 ],
 "metadata": {
  "kernelspec": {
   "display_name": "Python 3",
   "language": "python",
   "name": "python3"
  },
  "language_info": {
   "codemirror_mode": {
    "name": "ipython",
    "version": 3
   },
   "file_extension": ".py",
   "mimetype": "text/x-python",
   "name": "python",
   "nbconvert_exporter": "python",
   "pygments_lexer": "ipython3",
   "version": "3.6.5"
  }
 },
 "nbformat": 4,
 "nbformat_minor": 2
}
