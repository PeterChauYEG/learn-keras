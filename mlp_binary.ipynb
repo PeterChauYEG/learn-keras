{
 "cells": [
  {
   "cell_type": "markdown",
   "metadata": {},
   "source": [
    "# MLP for binary classification"
   ]
  },
  {
   "cell_type": "code",
   "execution_count": 1,
   "metadata": {},
   "outputs": [
    {
     "name": "stderr",
     "output_type": "stream",
     "text": [
      "Using TensorFlow backend.\n"
     ]
    }
   ],
   "source": [
    "import numpy as np\n",
    "from keras.models import Sequential\n",
    "from keras.layers import Dense, Dropout"
   ]
  },
  {
   "cell_type": "code",
   "execution_count": 2,
   "metadata": {},
   "outputs": [],
   "source": [
    "# generate dummy data\n",
    "x_train = np.random.random((1000, 20))\n",
    "y_train = np.random.randint(2, size=(1000, 1))\n",
    "x_test = np.random.random((100, 20))\n",
    "y_test = np.random.randint(2, size=(100, 1))"
   ]
  },
  {
   "cell_type": "code",
   "execution_count": 3,
   "metadata": {},
   "outputs": [],
   "source": [
    "# define the model\n",
    "model = Sequential()\n",
    "model.add(Dense(64, input_dim=20, activation='relu'))\n",
    "model.add(Dropout(0.5))\n",
    "model.add(Dense(64, activation='relu'))\n",
    "model.add(Dropout(0.5))\n",
    "model.add(Dense(1, activation='sigmoid'))"
   ]
  },
  {
   "cell_type": "code",
   "execution_count": 4,
   "metadata": {},
   "outputs": [],
   "source": [
    "# compile the model\n",
    "model.compile(loss='binary_crossentropy',\n",
    "              optimizer='rmsprop',\n",
    "              metrics=['accuracy'])"
   ]
  },
  {
   "cell_type": "code",
   "execution_count": 5,
   "metadata": {},
   "outputs": [
    {
     "name": "stdout",
     "output_type": "stream",
     "text": [
      "Epoch 1/20\n",
      "1000/1000 [==============================] - 0s 360us/step - loss: 0.7186 - acc: 0.4880\n",
      "Epoch 2/20\n",
      "1000/1000 [==============================] - 0s 25us/step - loss: 0.7073 - acc: 0.5090\n",
      "Epoch 3/20\n",
      "1000/1000 [==============================] - 0s 26us/step - loss: 0.7038 - acc: 0.5230\n",
      "Epoch 4/20\n",
      "1000/1000 [==============================] - 0s 24us/step - loss: 0.6956 - acc: 0.5380\n",
      "Epoch 5/20\n",
      "1000/1000 [==============================] - 0s 28us/step - loss: 0.7074 - acc: 0.4910\n",
      "Epoch 6/20\n",
      "1000/1000 [==============================] - 0s 25us/step - loss: 0.6957 - acc: 0.5310\n",
      "Epoch 7/20\n",
      "1000/1000 [==============================] - 0s 26us/step - loss: 0.7005 - acc: 0.5030\n",
      "Epoch 8/20\n",
      "1000/1000 [==============================] - 0s 27us/step - loss: 0.6961 - acc: 0.5150\n",
      "Epoch 9/20\n",
      "1000/1000 [==============================] - 0s 24us/step - loss: 0.6933 - acc: 0.5250\n",
      "Epoch 10/20\n",
      "1000/1000 [==============================] - 0s 28us/step - loss: 0.6920 - acc: 0.5270\n",
      "Epoch 11/20\n",
      "1000/1000 [==============================] - 0s 28us/step - loss: 0.6967 - acc: 0.5130\n",
      "Epoch 12/20\n",
      "1000/1000 [==============================] - 0s 31us/step - loss: 0.6963 - acc: 0.5240\n",
      "Epoch 13/20\n",
      "1000/1000 [==============================] - 0s 31us/step - loss: 0.6918 - acc: 0.5290\n",
      "Epoch 14/20\n",
      "1000/1000 [==============================] - 0s 32us/step - loss: 0.6949 - acc: 0.5280\n",
      "Epoch 15/20\n",
      "1000/1000 [==============================] - 0s 32us/step - loss: 0.6951 - acc: 0.5250\n",
      "Epoch 16/20\n",
      "1000/1000 [==============================] - 0s 39us/step - loss: 0.6931 - acc: 0.5130\n",
      "Epoch 17/20\n",
      "1000/1000 [==============================] - 0s 29us/step - loss: 0.6932 - acc: 0.5350\n",
      "Epoch 18/20\n",
      "1000/1000 [==============================] - 0s 31us/step - loss: 0.6930 - acc: 0.5150\n",
      "Epoch 19/20\n",
      "1000/1000 [==============================] - 0s 30us/step - loss: 0.6896 - acc: 0.5390\n",
      "Epoch 20/20\n",
      "1000/1000 [==============================] - 0s 26us/step - loss: 0.6865 - acc: 0.5310\n"
     ]
    },
    {
     "data": {
      "text/plain": [
       "<keras.callbacks.History at 0x1647809a518>"
      ]
     },
     "execution_count": 5,
     "metadata": {},
     "output_type": "execute_result"
    }
   ],
   "source": [
    "# train the model\n",
    "model.fit(x_train,\n",
    "          y_train,\n",
    "          epochs=20,\n",
    "          batch_size=128)"
   ]
  },
  {
   "cell_type": "code",
   "execution_count": 6,
   "metadata": {},
   "outputs": [
    {
     "name": "stdout",
     "output_type": "stream",
     "text": [
      "100/100 [==============================] - 0s 790us/step\n"
     ]
    }
   ],
   "source": [
    "# evaluate the model\n",
    "score = model.evaluate(x_test, y_test, batch_size=128)"
   ]
  },
  {
   "cell_type": "code",
   "execution_count": 7,
   "metadata": {},
   "outputs": [
    {
     "data": {
      "text/plain": [
       "[0.6873834729194641, 0.5899999737739563]"
      ]
     },
     "execution_count": 7,
     "metadata": {},
     "output_type": "execute_result"
    }
   ],
   "source": [
    "score"
   ]
  }
 ],
 "metadata": {
  "kernelspec": {
   "display_name": "Python 3",
   "language": "python",
   "name": "python3"
  },
  "language_info": {
   "codemirror_mode": {
    "name": "ipython",
    "version": 3
   },
   "file_extension": ".py",
   "mimetype": "text/x-python",
   "name": "python",
   "nbconvert_exporter": "python",
   "pygments_lexer": "ipython3",
   "version": "3.6.5"
  }
 },
 "nbformat": 4,
 "nbformat_minor": 2
}
