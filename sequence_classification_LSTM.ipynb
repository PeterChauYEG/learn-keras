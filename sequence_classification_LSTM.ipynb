{
 "cells": [
  {
   "cell_type": "code",
   "execution_count": 5,
   "metadata": {},
   "outputs": [],
   "source": [
    "from keras.models import Sequential\n",
    "from keras.layers import Dense, Dropout, Embedding, LSTM\n",
    "import numpy as np"
   ]
  },
  {
   "cell_type": "code",
   "execution_count": 10,
   "metadata": {},
   "outputs": [],
   "source": [
    "max_features = 1024\n",
    "x_train = np.random.random((100, 256))\n",
    "y_train = np.random.random((100, 1))\n",
    "x_test = np.random.random((20, 256))\n",
    "y_test = np.random.random((20, 1))"
   ]
  },
  {
   "cell_type": "code",
   "execution_count": 11,
   "metadata": {},
   "outputs": [],
   "source": [
    "model = Sequential()\n",
    "model.add(Embedding(max_features, output_dim=256))\n",
    "model.add(LSTM(128))\n",
    "model.add(Dropout(0.5))\n",
    "model.add(Dense(1, activation='sigmoid'))"
   ]
  },
  {
   "cell_type": "code",
   "execution_count": 12,
   "metadata": {},
   "outputs": [],
   "source": [
    "model.compile(loss='binary_crossentropy',\n",
    "              optimizer='rmsprop',\n",
    "              metrics=['accuracy'])"
   ]
  },
  {
   "cell_type": "code",
   "execution_count": 13,
   "metadata": {},
   "outputs": [
    {
     "name": "stdout",
     "output_type": "stream",
     "text": [
      "Epoch 1/10\n",
      "100/100 [==============================] - 3s 33ms/step - loss: 0.7037 - acc: 0.0000e+00\n",
      "Epoch 2/10\n",
      "100/100 [==============================] - 2s 23ms/step - loss: 0.6957 - acc: 0.0000e+00\n",
      "Epoch 3/10\n",
      "100/100 [==============================] - 2s 22ms/step - loss: 0.6949 - acc: 0.0000e+00\n",
      "Epoch 4/10\n",
      "100/100 [==============================] - 2s 23ms/step - loss: 0.6947 - acc: 0.0000e+00\n",
      "Epoch 5/10\n",
      "100/100 [==============================] - 2s 23ms/step - loss: 0.6939 - acc: 0.0000e+00\n",
      "Epoch 6/10\n",
      "100/100 [==============================] - 2s 23ms/step - loss: 0.6969 - acc: 0.0000e+00\n",
      "Epoch 7/10\n",
      "100/100 [==============================] - 2s 22ms/step - loss: 0.6942 - acc: 0.0000e+00\n",
      "Epoch 8/10\n",
      "100/100 [==============================] - 2s 23ms/step - loss: 0.6956 - acc: 0.0000e+00\n",
      "Epoch 9/10\n",
      "100/100 [==============================] - 2s 22ms/step - loss: 0.6963 - acc: 0.0000e+00\n",
      "Epoch 10/10\n",
      "100/100 [==============================] - 2s 23ms/step - loss: 0.6936 - acc: 0.0000e+00\n"
     ]
    },
    {
     "data": {
      "text/plain": [
       "<keras.callbacks.History at 0x1cfa741c240>"
      ]
     },
     "execution_count": 13,
     "metadata": {},
     "output_type": "execute_result"
    }
   ],
   "source": [
    "model.fit(x_train, y_train, epochs=10, batch_size=16)"
   ]
  },
  {
   "cell_type": "code",
   "execution_count": 15,
   "metadata": {},
   "outputs": [
    {
     "name": "stdout",
     "output_type": "stream",
     "text": [
      "20/20 [==============================] - 0s 9ms/step\n"
     ]
    },
    {
     "data": {
      "text/plain": [
       "[0.6904104351997375, 0.0]"
      ]
     },
     "execution_count": 15,
     "metadata": {},
     "output_type": "execute_result"
    }
   ],
   "source": [
    "score = model.evaluate(x_test, y_test, batch_size=16)\n",
    "score"
   ]
  }
 ],
 "metadata": {
  "kernelspec": {
   "display_name": "Python 3",
   "language": "python",
   "name": "python3"
  },
  "language_info": {
   "codemirror_mode": {
    "name": "ipython",
    "version": 3
   },
   "file_extension": ".py",
   "mimetype": "text/x-python",
   "name": "python",
   "nbconvert_exporter": "python",
   "pygments_lexer": "ipython3",
   "version": "3.6.5"
  }
 },
 "nbformat": 4,
 "nbformat_minor": 2
}
